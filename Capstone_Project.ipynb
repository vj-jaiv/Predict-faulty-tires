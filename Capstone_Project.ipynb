{
 "cells": [
  {
   "cell_type": "code",
   "execution_count": 35,
   "id": "a4989598-8fc1-4aed-800c-31ad07bf68a5",
   "metadata": {},
   "outputs": [],
   "source": [
    "#Data Collection"
   ]
  },
  {
   "cell_type": "code",
   "execution_count": 1,
   "id": "66d5b62a-2436-4325-b465-6462806f5f00",
   "metadata": {},
   "outputs": [],
   "source": [
    "import os\n",
    "import numpy as np\n",
    "import pandas as pd\n",
    "import matplotlib.pyplot as plt\n",
    "from sklearn.model_selection import train_test_split, cross_val_score\n",
    "from sklearn.linear_model import LogisticRegression\n",
    "from sklearn.tree import DecisionTreeClassifier\n",
    "from sklearn.ensemble import RandomForestClassifier\n",
    "from sklearn.metrics import accuracy_score\n",
    "import tensorflow as tf\n",
    "from tensorflow.keras.preprocessing.image import ImageDataGenerator\n",
    "from tensorflow.keras.models import Sequential\n",
    "from tensorflow.keras.layers import Conv2D, MaxPooling2D, Flatten, Dense, Dropout, Input\n",
    "from tensorflow.keras.callbacks import ModelCheckpoint\n"
   ]
  },
  {
   "cell_type": "code",
   "execution_count": 2,
   "id": "b6091c76-2693-46ed-83ba-a936a8d22002",
   "metadata": {},
   "outputs": [
    {
     "name": "stdout",
     "output_type": "stream",
     "text": [
      "Good tires: 828 \n",
      "Faulty tires: 1028\n"
     ]
    }
   ],
   "source": [
    "# Paths to your good and faulty tire images\n",
    "good_tire_path = 'D:/vijay Upgrad/Capstone Project/Digital images of defective and good condition tyres/good'\n",
    "faulty_tire_path = 'D:/vijay Upgrad/Capstone Project/Digital images of defective and good condition tyres/defective'\n",
    "\n",
    "# Load data function\n",
    "def load_data(good_tire_path, faulty_tire_path):\n",
    "    good_tires = [os.path.join(good_tire_path, img) for img in os.listdir(good_tire_path)]\n",
    "    faulty_tires = [os.path.join(faulty_tire_path, img) for img in os.listdir(faulty_tire_path)]\n",
    "    return good_tires, faulty_tires\n",
    "\n",
    "good_tires, faulty_tires = load_data(good_tire_path, faulty_tire_path)\n",
    "print(f\"Good tires: {len(good_tires)} \\nFaulty tires: {len(faulty_tires)}\")"
   ]
  },
  {
   "cell_type": "code",
   "execution_count": 37,
   "id": "7469e0ec-8639-4648-bc0d-b71fa77786cc",
   "metadata": {},
   "outputs": [],
   "source": [
    "#Data Preprocessing"
   ]
  },
  {
   "cell_type": "code",
   "execution_count": 9,
   "id": "a61b35c9-98df-4ccd-a5c9-f310359100ef",
   "metadata": {},
   "outputs": [
    {
     "name": "stdout",
     "output_type": "stream",
     "text": [
      "Found 1486 images belonging to 2 classes.\n",
      "Found 370 images belonging to 2 classes.\n"
     ]
    }
   ],
   "source": [
    "# Creating an ImageDataGenerator for preprocessing the images\n",
    "train_datagen = ImageDataGenerator(\n",
    "    rescale=1./255,\n",
    "    validation_split=0.2  # Use 20% of the data for validation\n",
    ")\n",
    "\n",
    "# Load training and validation data using flow_from_directory\n",
    "train_generator = train_datagen.flow_from_directory(\n",
    "    directory='D:/vijay Upgrad/Capstone Project/Digital images of defective and good condition tyres',\n",
    "    target_size=(150, 150),  # Resize images to 150x150\n",
    "    batch_size=32,\n",
    "    class_mode='binary',  # Binary classification (good vs defective)\n",
    "    subset='training'  # Set as training data\n",
    ")\n",
    "\n",
    "validation_generator = train_datagen.flow_from_directory(\n",
    "    directory='D:/vijay Upgrad/Capstone Project/Digital images of defective and good condition tyres',\n",
    "    target_size=(150, 150),  # Resize images to 150x150\n",
    "    batch_size=32,\n",
    "    class_mode='binary',  # Binary classification (good vs defective)\n",
    "    subset='validation'  # Set as validation data\n",
    ")"
   ]
  },
  {
   "cell_type": "code",
   "execution_count": null,
   "id": "991f6cb2-06f2-41ae-becc-33c3098e82e9",
   "metadata": {},
   "outputs": [],
   "source": [
    "#Model Selection and Training"
   ]
  },
  {
   "cell_type": "code",
   "execution_count": 10,
   "id": "c6fb9489-a4c7-482a-9941-f5b70e81547f",
   "metadata": {},
   "outputs": [],
   "source": [
    "# Function to create CNN model\n",
    "def create_cnn_model(optimizer='adam', dropout_rate=0.5):\n",
    "    model = Sequential([\n",
    "        Input(shape=(150, 150, 3)),\n",
    "        Conv2D(32, (3, 3), activation='relu'),\n",
    "        MaxPooling2D((2, 2)),\n",
    "        Conv2D(64, (3, 3), activation='relu'),\n",
    "        MaxPooling2D((2, 2)),\n",
    "        Flatten(),\n",
    "        Dense(128, activation='relu'),\n",
    "        Dropout(dropout_rate),\n",
    "        Dense(1, activation='sigmoid')  # Output layer for binary classification\n",
    "    ])\n",
    "    model.compile(optimizer=optimizer, loss='binary_crossentropy', metrics=['accuracy'])\n",
    "    return model\n",
    "    \n",
    "# Create the CNN model\n",
    "cnn_model = create_cnn_model()\n"
   ]
  },
  {
   "cell_type": "code",
   "execution_count": 11,
   "id": "7031c826-20ff-4a0b-9610-2edd4c798924",
   "metadata": {},
   "outputs": [
    {
     "name": "stdout",
     "output_type": "stream",
     "text": [
      "Epoch 1/10\n",
      "\u001b[1m46/46\u001b[0m \u001b[32m━━━━━━━━━━━━━━━━━━━━\u001b[0m\u001b[37m\u001b[0m \u001b[1m125s\u001b[0m 3s/step - accuracy: 0.4875 - loss: 0.9796 - val_accuracy: 0.4489 - val_loss: 0.7378\n",
      "Epoch 2/10\n",
      "\u001b[1m46/46\u001b[0m \u001b[32m━━━━━━━━━━━━━━━━━━━━\u001b[0m\u001b[37m\u001b[0m \u001b[1m18s\u001b[0m 400ms/step - accuracy: 0.4375 - loss: 0.7977 - val_accuracy: 0.4943 - val_loss: 0.6654\n",
      "Epoch 3/10\n",
      "\u001b[1m46/46\u001b[0m \u001b[32m━━━━━━━━━━━━━━━━━━━━\u001b[0m\u001b[37m\u001b[0m \u001b[1m126s\u001b[0m 3s/step - accuracy: 0.6290 - loss: 0.6438 - val_accuracy: 0.6364 - val_loss: 0.6456\n",
      "Epoch 4/10\n",
      "\u001b[1m46/46\u001b[0m \u001b[32m━━━━━━━━━━━━━━━━━━━━\u001b[0m\u001b[37m\u001b[0m \u001b[1m19s\u001b[0m 414ms/step - accuracy: 0.6429 - loss: 0.6103 - val_accuracy: 0.5938 - val_loss: 0.7246\n",
      "Epoch 5/10\n",
      "\u001b[1m46/46\u001b[0m \u001b[32m━━━━━━━━━━━━━━━━━━━━\u001b[0m\u001b[37m\u001b[0m \u001b[1m121s\u001b[0m 3s/step - accuracy: 0.7006 - loss: 0.5935 - val_accuracy: 0.8125 - val_loss: 0.5109\n",
      "Epoch 6/10\n",
      "\u001b[1m46/46\u001b[0m \u001b[32m━━━━━━━━━━━━━━━━━━━━\u001b[0m\u001b[37m\u001b[0m \u001b[1m18s\u001b[0m 388ms/step - accuracy: 0.6875 - loss: 0.5212 - val_accuracy: 0.8182 - val_loss: 0.5035\n",
      "Epoch 7/10\n",
      "\u001b[1m46/46\u001b[0m \u001b[32m━━━━━━━━━━━━━━━━━━━━\u001b[0m\u001b[37m\u001b[0m \u001b[1m121s\u001b[0m 3s/step - accuracy: 0.7214 - loss: 0.5692 - val_accuracy: 0.7784 - val_loss: 0.5306\n",
      "Epoch 8/10\n",
      "\u001b[1m46/46\u001b[0m \u001b[32m━━━━━━━━━━━━━━━━━━━━\u001b[0m\u001b[37m\u001b[0m \u001b[1m17s\u001b[0m 383ms/step - accuracy: 0.8750 - loss: 0.4585 - val_accuracy: 0.7756 - val_loss: 0.5135\n",
      "Epoch 9/10\n",
      "\u001b[1m46/46\u001b[0m \u001b[32m━━━━━━━━━━━━━━━━━━━━\u001b[0m\u001b[37m\u001b[0m \u001b[1m119s\u001b[0m 3s/step - accuracy: 0.7479 - loss: 0.5115 - val_accuracy: 0.6761 - val_loss: 0.6481\n",
      "Epoch 10/10\n",
      "\u001b[1m46/46\u001b[0m \u001b[32m━━━━━━━━━━━━━━━━━━━━\u001b[0m\u001b[37m\u001b[0m \u001b[1m19s\u001b[0m 416ms/step - accuracy: 0.8438 - loss: 0.3963 - val_accuracy: 0.6733 - val_loss: 0.6384\n"
     ]
    }
   ],
   "source": [
    "# Train the model with checkpoints\n",
    "checkpoint = ModelCheckpoint(\n",
    "    filepath='best_model_weights.weights.h5',  # Use .weights.h5 for saving weights only\n",
    "    save_weights_only=True,\n",
    "    monitor='val_accuracy',\n",
    "    save_best_only=True\n",
    ")\n",
    "\n",
    "history = cnn_model.fit(\n",
    "    train_generator,\n",
    "    steps_per_epoch=train_generator.samples // train_generator.batch_size,\n",
    "    validation_data=validation_generator,\n",
    "    validation_steps=validation_generator.samples // validation_generator.batch_size,\n",
    "    epochs=10,\n",
    "    callbacks=[checkpoint]\n",
    ")"
   ]
  },
  {
   "cell_type": "code",
   "execution_count": 12,
   "id": "99337092-dc08-484f-942f-8e5a64799095",
   "metadata": {},
   "outputs": [
    {
     "data": {
      "image/png": "[encoded data removed]",
      "text/plain": [
       "<Figure size 640x480 with 1 Axes>"
      ]
     },
     "metadata": {},
     "output_type": "display_data"
    }
   ],
   "source": [
    "# Plotting CNN Training History \n",
    "plt.plot(history.history['accuracy'], label='train_accuracy') \n",
    "plt.plot(history.history['val_accuracy'], label='val_accuracy') \n",
    "plt.xlabel('Epochs') \n",
    "plt.ylabel('Accuracy') \n",
    "plt.legend() \n",
    "plt.show()"
   ]
  },
  {
   "cell_type": "code",
   "execution_count": null,
   "id": "950b3140-47e0-405e-aac8-f527c2449713",
   "metadata": {},
   "outputs": [],
   "source": [
    "# Preparing data for other models (Logistic Regression, Decision Tree, Random Forest)"
   ]
  },
  {
   "cell_type": "code",
   "execution_count": 13,
   "id": "30c97ede-4523-4b63-bbf4-c68fb998a970",
   "metadata": {},
   "outputs": [],
   "source": [
    "# Flattening the images for non-CNN models requires loading them again.\n",
    "X = np.array([tf.keras.preprocessing.image.img_to_array(tf.keras.preprocessing.image.load_img(img_path, target_size=(150, 150))) / 255.0 for img_path in good_tires + faulty_tires])\n",
    "y = np.array([0] * len(good_tires) + [1] * len(faulty_tires))  # Labels: 0 for good tires and 1 for faulty tires\n",
    "\n",
    "# Split into train and test sets (80% train, 20% test)\n",
    "X_train_flattened, X_test_flattened, y_train, y_test = train_test_split(X.reshape(X.shape[0], -1), y, test_size=0.2, random_state=42)"
   ]
  },
  {
   "cell_type": "code",
   "execution_count": 14,
   "id": "7e9ae2fd-1832-415a-9784-60a797f22c44",
   "metadata": {},
   "outputs": [
    {
     "name": "stdout",
     "output_type": "stream",
     "text": [
      "Test Accuracy (Logistic Regression): 0.62\n"
     ]
    }
   ],
   "source": [
    "# Logistic Regression Model\n",
    "log_reg = LogisticRegression(max_iter=1000)\n",
    "log_reg.fit(X_train_flattened, y_train)\n",
    "y_pred_log_reg = log_reg.predict(X_test_flattened)\n",
    "accuracy_log_reg = accuracy_score(y_test, y_pred_log_reg)\n",
    "print(f\"Test Accuracy (Logistic Regression): {accuracy_log_reg:.2f}\")"
   ]
  },
  {
   "cell_type": "code",
   "execution_count": 15,
   "id": "7d93e381-a367-4cfe-839f-efe0134a9fab",
   "metadata": {},
   "outputs": [
    {
     "name": "stdout",
     "output_type": "stream",
     "text": [
      "Cross-Validation Accuracy (Logistic Regression): 0.53\n"
     ]
    }
   ],
   "source": [
    "# Cross-Validation for Logistic Regression \n",
    "scores_log_reg = cross_val_score(log_reg, X.reshape(X.shape[0], -1), y, cv=5, scoring='accuracy') \n",
    "print(f\"Cross-Validation Accuracy (Logistic Regression): {np.mean(scores_log_reg):.2f}\")"
   ]
  },
  {
   "cell_type": "code",
   "execution_count": 16,
   "id": "ea1db825-6ce1-4d05-b961-dcade6a28853",
   "metadata": {},
   "outputs": [
    {
     "name": "stdout",
     "output_type": "stream",
     "text": [
      "Test Accuracy (Decision Tree): 0.65\n"
     ]
    }
   ],
   "source": [
    "# Decision Tree Model\n",
    "dt_model = DecisionTreeClassifier()\n",
    "dt_model.fit(X_train_flattened, y_train)\n",
    "y_pred_dt = dt_model.predict(X_test_flattened)\n",
    "accuracy_dt = accuracy_score(y_test, y_pred_dt)\n",
    "print(f\"Test Accuracy (Decision Tree): {accuracy_dt:.2f}\")"
   ]
  },
  {
   "cell_type": "code",
   "execution_count": 17,
   "id": "cae3a314-117f-49b2-8eda-dd36a63dc760",
   "metadata": {},
   "outputs": [
    {
     "name": "stdout",
     "output_type": "stream",
     "text": [
      "Test Accuracy (Random Forest): 0.74\n"
     ]
    }
   ],
   "source": [
    "# Random Forest Model\n",
    "rf_model = RandomForestClassifier(n_estimators=100)\n",
    "rf_model.fit(X_train_flattened, y_train)\n",
    "y_pred_rf = rf_model.predict(X_test_flattened)\n",
    "accuracy_rf = accuracy_score(y_test, y_pred_rf)\n",
    "print(f\"Test Accuracy (Random Forest): {accuracy_rf:.2f}\")\n"
   ]
  },
  {
   "cell_type": "code",
   "execution_count": 18,
   "id": "8d926f4d-e0c3-4793-9ea5-079eb32f1bf9",
   "metadata": {},
   "outputs": [
    {
     "name": "stdout",
     "output_type": "stream",
     "text": [
      "Cross-Validation Accuracy (Random Forest): 0.61\n"
     ]
    }
   ],
   "source": [
    "# Cross-Validation for Random Forest \n",
    "scores_rf = cross_val_score(rf_model, X.reshape(X.shape[0], -1), y, cv=5, scoring='accuracy') \n",
    "print(f\"Cross-Validation Accuracy (Random Forest): {np.mean(scores_rf):.2f}\")"
   ]
  },
  {
   "cell_type": "code",
   "execution_count": null,
   "id": "cc7b5477-8e90-4871-bdeb-f80589908c8c",
   "metadata": {},
   "outputs": [],
   "source": [
    "#Model Evaluation"
   ]
  },
  {
   "cell_type": "code",
   "execution_count": 19,
   "id": "6edb8a5e-a701-450e-91c8-7ff75630a7d1",
   "metadata": {},
   "outputs": [
    {
     "name": "stdout",
     "output_type": "stream",
     "text": [
      "\u001b[1m12/12\u001b[0m \u001b[32m━━━━━━━━━━━━━━━━━━━━\u001b[0m\u001b[37m\u001b[0m \u001b[1m30s\u001b[0m 2s/step - accuracy: 0.6837 - loss: 0.6367\n",
      "Validation Accuracy (CNN): 0.67\n",
      "Test Accuracy (Logistic Regression): 0.62\n",
      "Test Accuracy (Decision Tree): 0.65\n",
      "Test Accuracy (Random Forest): 0.74\n"
     ]
    }
   ],
   "source": [
    "# CNN Model Evaluation\n",
    "val_loss, val_accuracy = cnn_model.evaluate(validation_generator)\n",
    "print(f'Validation Accuracy (CNN): {val_accuracy:.2f}')\n",
    "\n",
    "# Accuracy of other models\n",
    "print(f\"Test Accuracy (Logistic Regression): {accuracy_log_reg:.2f}\")\n",
    "print(f\"Test Accuracy (Decision Tree): {accuracy_dt:.2f}\")\n",
    "print(f\"Test Accuracy (Random Forest): {accuracy_rf:.2f}\")\n"
   ]
  },
  {
   "cell_type": "code",
   "execution_count": null,
   "id": "dcc73a29-acaa-4b14-9347-fdf90c15904a",
   "metadata": {},
   "outputs": [],
   "source": []
  }
 ],
 "metadata": {
  "kernelspec": {
   "display_name": "Python 3 (ipykernel)",
   "language": "python",
   "name": "python3"
  },
  "language_info": {
   "codemirror_mode": {
    "name": "ipython",
    "version": 3
   },
   "file_extension": ".py",
   "mimetype": "text/x-python",
   "name": "python",
   "nbconvert_exporter": "python",
   "pygments_lexer": "ipython3",
   "version": "3.12.7"
  }
 },
 "nbformat": 4,
 "nbformat_minor": 5
}
